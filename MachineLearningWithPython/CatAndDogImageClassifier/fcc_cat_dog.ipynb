{
  "cells": [
    {
      "cell_type": "markdown",
      "metadata": {
        "id": "view-in-github",
        "colab_type": "text"
      },
      "source": [
        "<a href=\"https://colab.research.google.com/github/LukyLuke92/freeCodeCamp-files-LR/blob/main/MachineLearningWithPython/CatAndDogImageClassifier/fcc_cat_dog.ipynb\" target=\"_parent\"><img src=\"https://colab.research.google.com/assets/colab-badge.svg\" alt=\"Open In Colab\"/></a>"
      ]
    },
    {
      "cell_type": "code",
      "execution_count": null,
      "metadata": {
        "id": "la_Oz6oLlub6",
        "outputId": "f837436f-3691-4ba5-d404-1e803e7b6baa",
        "colab": {
          "base_uri": "https://localhost:8080/"
        }
      },
      "outputs": [
        {
          "output_type": "stream",
          "name": "stdout",
          "text": [
            "Colab only includes TensorFlow 2.x; %tensorflow_version has no effect.\n"
          ]
        }
      ],
      "source": [
        "try:\n",
        "  # This command only in Colab.\n",
        "  %tensorflow_version 2.x\n",
        "except Exception:\n",
        "  pass\n",
        "import tensorflow as tf\n",
        "\n",
        "from tensorflow.keras.preprocessing import image_dataset_from_directory\n",
        "from tensorflow.keras.layers.experimental.preprocessing import Rescaling\n",
        "from tensorflow.keras.models import Sequential\n",
        "from tensorflow.keras.layers import Dense, Conv2D, Flatten, Dropout, MaxPooling2D\n",
        "from tensorflow.keras.preprocessing.image import ImageDataGenerator\n",
        "\n",
        "import os\n",
        "import numpy as np\n",
        "import matplotlib.pyplot as plt\n",
        "import matplotlib as mpl"
      ]
    },
    {
      "cell_type": "code",
      "execution_count": null,
      "metadata": {
        "id": "jaF8r6aOl48C",
        "collapsed": true,
        "outputId": "ea88b41c-0ad2-49dc-93c7-8ab6bd2c9568",
        "colab": {
          "base_uri": "https://localhost:8080/"
        }
      },
      "outputs": [
        {
          "output_type": "stream",
          "name": "stdout",
          "text": [
            "--2024-06-16 16:08:21--  https://cdn.freecodecamp.org/project-data/cats-and-dogs/cats_and_dogs.zip\n",
            "Resolving cdn.freecodecamp.org (cdn.freecodecamp.org)... 104.26.3.33, 104.26.2.33, 172.67.70.149, ...\n",
            "Connecting to cdn.freecodecamp.org (cdn.freecodecamp.org)|104.26.3.33|:443... connected.\n",
            "HTTP request sent, awaiting response... 200 OK\n",
            "Length: 70702765 (67M) [application/zip]\n",
            "Saving to: ‘cats_and_dogs.zip.1’\n",
            "\n",
            "cats_and_dogs.zip.1 100%[===================>]  67.43M  48.3MB/s    in 1.4s    \n",
            "\n",
            "2024-06-16 16:08:23 (48.3 MB/s) - ‘cats_and_dogs.zip.1’ saved [70702765/70702765]\n",
            "\n",
            "Archive:  cats_and_dogs.zip\n",
            "replace cats_and_dogs/.DS_Store? [y]es, [n]o, [A]ll, [N]one, [r]ename: "
          ]
        }
      ],
      "source": [
        "# Get project files\n",
        "!wget https://cdn.freecodecamp.org/project-data/cats-and-dogs/cats_and_dogs.zip\n",
        "\n",
        "!unzip cats_and_dogs.zip\n",
        "\n",
        "PATH = 'cats_and_dogs'\n",
        "\n",
        "train_dir = os.path.join(PATH, 'train')\n",
        "validation_dir = os.path.join(PATH, 'validation')\n",
        "test_dir = os.path.join(PATH, 'test')\n",
        "\n",
        "# Get number of files in each directory. The train and validation directories\n",
        "# each have the subdirecories \"dogs\" and \"cats\".\n",
        "total_train = sum([len(files) for r, d, files in os.walk(train_dir)])\n",
        "total_val = sum([len(files) for r, d, files in os.walk(validation_dir)])\n",
        "total_test = len(os.listdir(test_dir))\n",
        "\n",
        "# Variables for pre-processing and training.\n",
        "batch_size = 128\n",
        "epochs = 25 # Increasing to 25 seemed to yield higher accuracy\n",
        "IMG_HEIGHT = 150\n",
        "IMG_WIDTH = 150"
      ]
    },
    {
      "cell_type": "code",
      "execution_count": null,
      "metadata": {
        "id": "EOJFeEfumns6",
        "outputId": "78e291ad-78c2-476e-937e-b777f5b002eb",
        "colab": {
          "base_uri": "https://localhost:8080/"
        }
      },
      "outputs": [
        {
          "output_type": "stream",
          "name": "stdout",
          "text": [
            "Found 2000 files belonging to 2 classes.\n",
            "Found 1000 files belonging to 2 classes.\n",
            "Found 50 files belonging to 1 classes.\n"
          ]
        }
      ],
      "source": [
        "# 3\n",
        "train_image_generator = ImageDataGenerator(rescale=1./255)\n",
        "validation_image_generator = ImageDataGenerator(rescale=1./255)\n",
        "test_image_generator = ImageDataGenerator(rescale=1./255)\n",
        "train_data_gen = train_image_generator.flow_from_directory(train_dir,\n",
        "                                                           target_size=(IMG_HEIGHT,IMG_WIDTH),\n",
        "                                                           batch_size = batch_size,\n",
        "                                                           class_mode='binary')\n",
        "val_data_gen = validation_image_generator.flow_from_directory(validation_dir,\n",
        "                                                              target_size=(IMG_HEIGHT,IMG_WIDTH),\n",
        "                                                              batch_size = batch_size,\n",
        "                                                              class_mode='binary')\n",
        "test_data_gen = test_image_generator.flow_from_directory(os.path.dirname(test_dir),\n",
        "                                                         target_size=(IMG_HEIGHT,IMG_WIDTH),\n",
        "                                                         batch_size = batch_size,\n",
        "                                                         class_mode=None,\n",
        "                                                         classes=['test'],\n",
        "                                                         shuffle=False)\n",
        "'''\n",
        "# Tried using tf.keras.preprocessing.image_dataset_from_directory since ImageDataGenerator is deprecated\n",
        "# Because image_dataset_from_directory does not have a 'rescale' option, we will need to add a rescaling\n",
        "#  layer to the model (I think)\n",
        "# This results in issues with plotting, since next(iter(*_data_gen)) returns a tuple, which cannot easily be scaled\n",
        "#  down to [0,1], which is expected for floats - results in essentially all white images\n",
        "train_data_gen = image_dataset_from_directory(train_dir,\n",
        "                                              batch_size=batch_size,\n",
        "                                              image_size=(IMG_HEIGHT,IMG_WIDTH),\n",
        "                                              label_mode='binary')\n",
        "val_data_gen = image_dataset_from_directory(validation_dir,\n",
        "                                            batch_size=batch_size,\n",
        "                                            image_size=(IMG_HEIGHT,IMG_WIDTH),\n",
        "                                            label_mode='binary')\n",
        "test_data_gen = image_dataset_from_directory(test_dir,\n",
        "                                             batch_size=batch_size,\n",
        "                                             image_size=(IMG_HEIGHT,IMG_WIDTH),\n",
        "                                             label_mode=None,\n",
        "                                             labels=None)\n",
        "'''"
      ]
    },
    {
      "cell_type": "code",
      "execution_count": null,
      "metadata": {
        "id": "TP0WA8j1mt7Q",
        "collapsed": true
      },
      "outputs": [],
      "source": [
        "# 4\n",
        "def plotImages(images_arr, probabilities = False):\n",
        "    fig, axes = plt.subplots(len(images_arr), 1, figsize=(5,len(images_arr) * 3))\n",
        "    if probabilities is False:\n",
        "      for img, ax in zip( images_arr, axes):\n",
        "          ax.imshow(img)\n",
        "          ax.axis('off')\n",
        "    else:\n",
        "      for img, probability, ax in zip( images_arr, probabilities, axes):\n",
        "          ax.imshow(img)\n",
        "          ax.axis('off')\n",
        "          if probability > 0.5:\n",
        "              ax.set_title(\"%.2f\" % (probability*100) + \"% dog\")\n",
        "          else:\n",
        "              ax.set_title(\"%.2f\" % ((1-probability)*100) + \"% cat\")\n",
        "    plt.show()\n",
        "### Suppressed plotting to clean up notebook output ###\n",
        "#sample_training_images, _ = next(iter(train_data_gen))\n",
        "#plotImages(sample_training_images[:5])\n",
        "\n",
        "### Lines below plot the test images - troubleshooting ###\n",
        "#test_images = next(test_data_gen)\n",
        "#plotImages(test_images[:5])\n"
      ]
    },
    {
      "cell_type": "code",
      "execution_count": null,
      "metadata": {
        "id": "-32RRLY_3voj",
        "colab": {
          "base_uri": "https://localhost:8080/",
          "height": 71
        },
        "outputId": "68672c9b-a607-4bd6-86f9-1213de8f751f"
      },
      "outputs": [
        {
          "output_type": "execute_result",
          "data": {
            "text/plain": [
              "' Uncomment if using ImageDataGenerator\\ntrain_image_generator = ImageDataGenerator(rescale=1./255,\\n                                           rotation_range=20,\\n                                           brightness_range=[0.75,1.25],\\n                                           shear_range=20,\\n                                           horizontal_flip=True)\\n'"
            ],
            "application/vnd.google.colaboratory.intrinsic+json": {
              "type": "string"
            }
          },
          "metadata": {},
          "execution_count": 199
        }
      ],
      "source": [
        "# 5\n",
        "# Comment if using image_dataset_from_directory\n",
        "train_image_generator = ImageDataGenerator(rescale=1./255,\n",
        "                                           rotation_range=20,\n",
        "                                           brightness_range=[0.75,1.25],\n",
        "                                           shear_range=20,\n",
        "                                           horizontal_flip=True)"
      ]
    },
    {
      "cell_type": "code",
      "execution_count": null,
      "metadata": {
        "id": "pkwq2LFvqabS",
        "colab": {
          "base_uri": "https://localhost:8080/",
          "height": 71
        },
        "collapsed": true,
        "outputId": "950252e9-d1d3-4478-a2e5-badb9bd5aa41"
      },
      "outputs": [
        {
          "output_type": "execute_result",
          "data": {
            "text/plain": [
              "\" Uncomment if using ImageDataGenerator\\ntrain_data_gen = train_image_generator.flow_from_directory(batch_size=batch_size,\\n                                                     directory=train_dir,\\n                                                     target_size=(IMG_HEIGHT, IMG_WIDTH),\\n                                                     class_mode='binary')\\n\""
            ],
            "application/vnd.google.colaboratory.intrinsic+json": {
              "type": "string"
            }
          },
          "metadata": {},
          "execution_count": 200
        }
      ],
      "source": [
        "# 6\n",
        "# Comment if using image_dataset_from_directory\n",
        "train_data_gen = train_image_generator.flow_from_directory(batch_size=batch_size,\n",
        "                                                     directory=train_dir,\n",
        "                                                     target_size=(IMG_HEIGHT, IMG_WIDTH),\n",
        "                                                     class_mode='binary')\n",
        "\n",
        "### Suppressed plotting to clean up notebook output ###\n",
        "#augmented_images = [train_data_gen[0][0][0] for i in range(5)]\n",
        "#plotImages(augmented_images)"
      ]
    },
    {
      "cell_type": "code",
      "execution_count": null,
      "metadata": {
        "id": "k8aZkwMam4UY",
        "colab": {
          "base_uri": "https://localhost:8080/"
        },
        "outputId": "c89f39be-9b53-4120-b9d1-c736252b929d"
      },
      "outputs": [
        {
          "output_type": "stream",
          "name": "stdout",
          "text": [
            "Model: \"sequential_26\"\n",
            "_________________________________________________________________\n",
            " Layer (type)                Output Shape              Param #   \n",
            "=================================================================\n",
            " rescaling_15 (Rescaling)    (None, 150, 150, 3)       0         \n",
            "                                                                 \n",
            " random_rotation_11 (Random  (None, 150, 150, 3)       0         \n",
            " Rotation)                                                       \n",
            "                                                                 \n",
            " random_brightness_10 (Rand  (None, 150, 150, 3)       0         \n",
            " omBrightness)                                                   \n",
            "                                                                 \n",
            " random_flip_8 (RandomFlip)  (None, 150, 150, 3)       0         \n",
            "                                                                 \n",
            " conv2d_104 (Conv2D)         (None, 150, 150, 128)     3584      \n",
            "                                                                 \n",
            " dropout_32 (Dropout)        (None, 150, 150, 128)     0         \n",
            "                                                                 \n",
            " max_pooling2d_78 (MaxPooli  (None, 75, 75, 128)       0         \n",
            " ng2D)                                                           \n",
            "                                                                 \n",
            " conv2d_105 (Conv2D)         (None, 73, 73, 128)       147584    \n",
            "                                                                 \n",
            " max_pooling2d_79 (MaxPooli  (None, 36, 36, 128)       0         \n",
            " ng2D)                                                           \n",
            "                                                                 \n",
            " conv2d_106 (Conv2D)         (None, 34, 34, 128)       147584    \n",
            "                                                                 \n",
            " max_pooling2d_80 (MaxPooli  (None, 17, 17, 128)       0         \n",
            " ng2D)                                                           \n",
            "                                                                 \n",
            " conv2d_107 (Conv2D)         (None, 15, 15, 128)       147584    \n",
            "                                                                 \n",
            " flatten_26 (Flatten)        (None, 28800)             0         \n",
            "                                                                 \n",
            " dense_52 (Dense)            (None, 64)                1843264   \n",
            "                                                                 \n",
            " dropout_33 (Dropout)        (None, 64)                0         \n",
            "                                                                 \n",
            " dense_53 (Dense)            (None, 2)                 130       \n",
            "                                                                 \n",
            "=================================================================\n",
            "Total params: 2289730 (8.73 MB)\n",
            "Trainable params: 2289730 (8.73 MB)\n",
            "Non-trainable params: 0 (0.00 Byte)\n",
            "_________________________________________________________________\n"
          ]
        }
      ],
      "source": [
        "# 7\n",
        "model = Sequential([\n",
        "    '''\n",
        "    # Code below does not use ImageDataGenerator, which is deprecated, and instead uses the\n",
        "    #  output of image_dataset_from_directory, which returns a tf.data.Dataset\n",
        "    # Instead of pre-processing using ImageDataGenerator, this adds layers at the start to the\n",
        "    #  sequential model to augment the data - note that shear is missing, as it is not available\n",
        "    #  in the tf.keras library\n",
        "    tf.keras.layers.Rescaling(1./255,input_shape=(IMG_HEIGHT,IMG_WIDTH,3)),\n",
        "    tf.keras.layers.RandomRotation(0.05), # Note this is fraction of 2pi - 0.05 is ~20deg\n",
        "    # tf.keras.layers.RandomBrightness(0.05), # Appears to break the model\n",
        "    tf.keras.layers.RandomFlip('horizontal'),\n",
        "    Conv2D(128,3,padding='same',strides=(1,1),activation='relu'),\n",
        "    # Uncomment the below and comment the above 5 lines if using ImageDataGenerator\n",
        "    '''\n",
        "    Conv2D(128,3,padding='same',strides=(1,1),activation='relu',input_shape=(IMG_HEIGHT,IMG_WIDTH,3)),\n",
        "    Dropout(0.2),\n",
        "    MaxPooling2D(pool_size=(2,2)),\n",
        "    Conv2D(128,3,activation='relu'),\n",
        "    MaxPooling2D(pool_size=(2,2)),\n",
        "    Conv2D(128,3,activation='relu'),\n",
        "    MaxPooling2D(pool_size=(2,2)),\n",
        "    Conv2D(128,3,activation='relu'),\n",
        "    Flatten(),\n",
        "    Dense(64,activation='relu'),\n",
        "    Dropout(0.5),\n",
        "    Dense(2,activation='softmax')\n",
        "])\n",
        "\n",
        "model.compile(optimizer='Adam',\n",
        "              loss='sparse_categorical_crossentropy',\n",
        "              metrics=['accuracy'])\n",
        "\n",
        "model.summary()"
      ]
    },
    {
      "cell_type": "code",
      "execution_count": null,
      "metadata": {
        "id": "1niQDz5x6K7y",
        "colab": {
          "base_uri": "https://localhost:8080/"
        },
        "outputId": "a3200cd6-c6b2-42df-95c4-891ebe2d2618"
      },
      "outputs": [
        {
          "output_type": "stream",
          "name": "stdout",
          "text": [
            "Epoch 1/25\n",
            "16/16 [==============================] - 11s 515ms/step - loss: 1.5127 - accuracy: 0.4840 - val_loss: 0.6932 - val_accuracy: 0.5000\n",
            "Epoch 2/25\n",
            "16/16 [==============================] - 9s 499ms/step - loss: 0.6937 - accuracy: 0.5015 - val_loss: 0.6931 - val_accuracy: 0.5000\n",
            "Epoch 3/25\n",
            "16/16 [==============================] - 9s 489ms/step - loss: 0.6932 - accuracy: 0.5000 - val_loss: 0.6931 - val_accuracy: 0.5000\n",
            "Epoch 4/25\n",
            "16/16 [==============================] - 9s 489ms/step - loss: 0.6932 - accuracy: 0.5000 - val_loss: 0.6931 - val_accuracy: 0.5000\n",
            "Epoch 5/25\n",
            "16/16 [==============================] - 10s 579ms/step - loss: 0.6932 - accuracy: 0.5015 - val_loss: 0.6931 - val_accuracy: 0.5000\n",
            "Epoch 6/25\n",
            "16/16 [==============================] - 9s 499ms/step - loss: 0.6935 - accuracy: 0.4930 - val_loss: 0.6932 - val_accuracy: 0.5000\n",
            "Epoch 7/25\n",
            "16/16 [==============================] - 9s 509ms/step - loss: 0.6936 - accuracy: 0.4980 - val_loss: 0.6931 - val_accuracy: 0.5000\n",
            "Epoch 8/25\n",
            "16/16 [==============================] - 9s 489ms/step - loss: 0.6932 - accuracy: 0.5000 - val_loss: 0.6931 - val_accuracy: 0.5000\n",
            "Epoch 9/25\n",
            "16/16 [==============================] - 9s 494ms/step - loss: 0.6932 - accuracy: 0.5000 - val_loss: 0.6931 - val_accuracy: 0.5000\n",
            "Epoch 10/25\n",
            "16/16 [==============================] - 9s 532ms/step - loss: 0.6932 - accuracy: 0.5000 - val_loss: 0.6931 - val_accuracy: 0.5000\n",
            "Epoch 11/25\n",
            "16/16 [==============================] - 9s 486ms/step - loss: 0.6932 - accuracy: 0.5000 - val_loss: 0.6931 - val_accuracy: 0.5000\n",
            "Epoch 12/25\n",
            "16/16 [==============================] - 9s 496ms/step - loss: 0.6932 - accuracy: 0.4790 - val_loss: 0.6931 - val_accuracy: 0.5000\n",
            "Epoch 13/25\n",
            "16/16 [==============================] - 9s 508ms/step - loss: 0.6932 - accuracy: 0.4900 - val_loss: 0.6931 - val_accuracy: 0.5000\n",
            "Epoch 14/25\n",
            "16/16 [==============================] - 9s 490ms/step - loss: 0.6932 - accuracy: 0.5000 - val_loss: 0.6931 - val_accuracy: 0.5000\n",
            "Epoch 15/25\n",
            "16/16 [==============================] - 9s 488ms/step - loss: 0.6932 - accuracy: 0.5000 - val_loss: 0.6931 - val_accuracy: 0.5000\n",
            "Epoch 16/25\n",
            "16/16 [==============================] - 9s 496ms/step - loss: 0.6932 - accuracy: 0.5000 - val_loss: 0.6931 - val_accuracy: 0.5000\n",
            "Epoch 17/25\n",
            "11/16 [===================>..........] - ETA: 2s - loss: 0.6932 - accuracy: 0.4986"
          ]
        }
      ],
      "source": [
        "# 8\n",
        "history = model.fit(x=train_data_gen,\n",
        "          batch_size=batch_size,\n",
        "          epochs=epochs,\n",
        "          validation_data=val_data_gen,\n",
        "          )"
      ]
    },
    {
      "cell_type": "code",
      "execution_count": null,
      "metadata": {
        "id": "5xS51mB56OAC",
        "colab": {
          "base_uri": "https://localhost:8080/",
          "height": 699
        },
        "outputId": "c25855a3-29b5-4e10-b141-1ca80d314849"
      },
      "outputs": [
        {
          "output_type": "display_data",
          "data": {
            "text/plain": [
              "<Figure size 800x800 with 2 Axes>"
            ],
            "image/png": "[encoded data removed]"
          },
          "metadata": {}
        }
      ],
      "source": [
        "# 9\n",
        "acc = history.history['accuracy']\n",
        "val_acc = history.history['val_accuracy']\n",
        "\n",
        "loss = history.history['loss']\n",
        "val_loss = history.history['val_loss']\n",
        "\n",
        "epochs_range = range(epochs)\n",
        "\n",
        "plt.figure(figsize=(8, 8))\n",
        "plt.subplot(1, 2, 1)\n",
        "plt.plot(epochs_range, acc, label='Training Accuracy')\n",
        "plt.plot(epochs_range, val_acc, label='Validation Accuracy')\n",
        "plt.legend(loc='lower right')\n",
        "plt.title('Training and Validation Accuracy')\n",
        "\n",
        "plt.subplot(1, 2, 2)\n",
        "plt.plot(epochs_range, loss, label='Training Loss')\n",
        "plt.plot(epochs_range, val_loss, label='Validation Loss')\n",
        "plt.legend(loc='upper right')\n",
        "plt.title('Training and Validation Loss')\n",
        "plt.show()"
      ]
    },
    {
      "cell_type": "code",
      "execution_count": null,
      "metadata": {
        "id": "vYrSifOit2aK",
        "colab": {
          "base_uri": "https://localhost:8080/"
        },
        "outputId": "422abad0-c48f-4f7e-9463-63ebbff1c9f0"
      },
      "outputs": [
        {
          "output_type": "stream",
          "name": "stdout",
          "text": [
            "1/1 - 0s - 121ms/epoch - 121ms/step\n",
            "[0. 0. 0. 1. 0. 0. 1. 1. 0. 0. 0. 1. 0. 1. 1. 0. 0. 1. 0. 1. 0. 0. 0. 0.\n",
            " 1. 1. 1. 1. 0. 0. 0. 0. 1. 1. 0. 1. 1. 1. 1. 1. 0. 1. 1. 0. 1. 1. 0. 0.\n",
            " 0. 1.]\n"
          ]
        }
      ],
      "source": [
        "# 10\n",
        "predictions = np.array(model.predict(test_data_gen,verbose=2))\n",
        "probabilities = np.round(predictions[:,1])\n",
        "print(probabilities)"
      ]
    },
    {
      "cell_type": "code",
      "execution_count": null,
      "metadata": {
        "id": "4IH86Ux_u7TZ",
        "colab": {
          "base_uri": "https://localhost:8080/"
        },
        "outputId": "b7f84ddb-0330-4d6e-b13e-dc809c93b57b"
      },
      "outputs": [
        {
          "output_type": "stream",
          "name": "stdout",
          "text": [
            "Your model correctly identified 60.0% of the images of cats and dogs.\n",
            "You haven't passed yet. Your model should identify at least 63% of the images. Keep trying. You will get it!\n"
          ]
        }
      ],
      "source": [
        "# 11\n",
        "answers =  [1, 0, 0, 1, 0, 0, 0, 0, 1, 1, 0,\n",
        "            1, 0, 1, 0, 1, 1, 0, 1, 1, 0, 0,\n",
        "            1, 1, 1, 1, 1, 0, 0, 0, 0, 0, 1,\n",
        "            1, 0, 1, 1, 1, 1, 0, 1, 0, 1, 1,\n",
        "            0, 0, 0, 0, 0, 0]\n",
        "\n",
        "correct = 0\n",
        "\n",
        "for probability, answer in zip(probabilities, answers):\n",
        "  if round(probability) == answer:\n",
        "    correct +=1\n",
        "\n",
        "percentage_identified = (correct / len(answers)) * 100\n",
        "\n",
        "passed_challenge = percentage_identified >= 63\n",
        "\n",
        "print(f\"Your model correctly identified {round(percentage_identified, 2)}% of the images of cats and dogs.\")\n",
        "\n",
        "if passed_challenge:\n",
        "  print(\"You passed the challenge!\")\n",
        "else:\n",
        "  print(\"You haven't passed yet. Your model should identify at least 63% of the images. Keep trying. You will get it!\")"
      ]
    }
  ],
  "metadata": {
    "colab": {
      "provenance": [],
      "gpuType": "T4",
      "include_colab_link": true
    },
    "kernelspec": {
      "display_name": "Python 3",
      "name": "python3"
    },
    "accelerator": "GPU"
  },
  "nbformat": 4,
  "nbformat_minor": 0
}