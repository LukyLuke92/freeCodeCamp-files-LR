{
  "cells": [
    {
      "cell_type": "markdown",
      "metadata": {
        "id": "view-in-github",
        "colab_type": "text"
      },
      "source": [
        "<a href=\"https://colab.research.google.com/github/LukyLuke92/freeCodeCamp-files-LR/blob/main/MachineLearningWithPython/LinearRegressionHealthCosts/fcc_predict_health_costs_with_regression.ipynb\" target=\"_parent\"><img src=\"https://colab.research.google.com/assets/colab-badge.svg\" alt=\"Open In Colab\"/></a>"
      ]
    },
    {
      "cell_type": "code",
      "execution_count": null,
      "metadata": {
        "id": "1rRo8oNqZ-Rj"
      },
      "outputs": [],
      "source": [
        "# Import libraries. You may or may not use all of these.\n",
        "!pip install -q git+https://github.com/tensorflow/docs\n",
        "import matplotlib.pyplot as plt\n",
        "import numpy as np\n",
        "import pandas as pd\n",
        "\n",
        "try:\n",
        "  # %tensorflow_version only exists in Colab.\n",
        "  %tensorflow_version 2.x\n",
        "except Exception:\n",
        "  pass\n",
        "import tensorflow as tf\n",
        "\n",
        "from tensorflow import keras\n",
        "from tensorflow.keras import layers\n",
        "\n",
        "import tensorflow_docs as tfdocs\n",
        "import tensorflow_docs.plots\n",
        "import tensorflow_docs.modeling"
      ]
    },
    {
      "cell_type": "code",
      "execution_count": null,
      "metadata": {
        "id": "CiX2FI4gZtTt"
      },
      "outputs": [],
      "source": [
        "# Import data\n",
        "!wget https://cdn.freecodecamp.org/project-data/health-costs/insurance.csv\n",
        "dataset = pd.read_csv('insurance.csv')\n",
        "dataset.tail()"
      ]
    },
    {
      "cell_type": "code",
      "source": [
        "# Take a look at the data\n",
        "dataset['region'].value_counts()"
      ],
      "metadata": {
        "id": "VMH4cQBIETQz"
      },
      "execution_count": null,
      "outputs": []
    },
    {
      "cell_type": "code",
      "execution_count": null,
      "metadata": {
        "id": "LcopvQh3X-kX"
      },
      "outputs": [],
      "source": [
        "# Converters for categorical variables\n",
        "# The more efficient way to do this is to create a set from each dataframe,\n",
        "#  then assign a different int to each unique value - may come back and do this\n",
        "# For sex (male = 0, female = 1)\n",
        "def sex_to_int(sex):\n",
        "  if sex == 'male':\n",
        "    return 0\n",
        "  elif sex == 'female':\n",
        "    return 1\n",
        "  elif isinstance(sex,int):\n",
        "    return sex\n",
        "\n",
        "# For smoker (no = 0, yes = 1)\n",
        "def smoker_to_int(smoker):\n",
        "  if smoker == 'no':\n",
        "    return 0\n",
        "  elif smoker == 'yes':\n",
        "    return 1\n",
        "  elif isinstance(smoker,int):\n",
        "    return smoker"
      ]
    },
    {
      "cell_type": "code",
      "source": [
        "# Because region does not have a binary variable, the best way to do this would\n",
        "#  be to split up the regions into separate variables and have those be binary\n",
        "for i in ['southeast','southwest','northeast','northwest']:\n",
        "  dataset[i] = dataset['region'] == i\n",
        "  dataset[i] = dataset[i].astype('int64')\n",
        "dataset = dataset.drop(columns='region')"
      ],
      "metadata": {
        "id": "Mkv01HMQwmAr"
      },
      "execution_count": null,
      "outputs": []
    },
    {
      "cell_type": "code",
      "source": [
        "# Use the converters above to convert categorical fields to ints\n",
        "dataset['sex'] = dataset['sex'].apply(lambda x: sex_to_int(x))\n",
        "dataset['smoker'] = dataset['smoker'].apply(lambda x: smoker_to_int(x))\n",
        "print(dataset)"
      ],
      "metadata": {
        "id": "LjNusKI4Eez2"
      },
      "execution_count": null,
      "outputs": []
    },
    {
      "cell_type": "code",
      "source": [
        "# Split the dataset into train and test datasets\n",
        "split = int(0.8*dataset.shape[0])\n",
        "train_dataset = dataset.iloc[:split]\n",
        "test_dataset = dataset.iloc[split:]\n",
        "train_labels = train_dataset.pop('expenses')\n",
        "test_labels = test_dataset.pop('expenses')\n",
        "print(train_dataset)"
      ],
      "metadata": {
        "id": "iutS2daHGv2O"
      },
      "execution_count": null,
      "outputs": []
    },
    {
      "cell_type": "code",
      "source": [
        "# To create a linear regression, make a sequential model with an input layer,\n",
        "#  no hidden layers, and a single output node - this creates a model where all\n",
        "#  of the inputs are added with separate weights to yield an output (which is a\n",
        "#  linear model)\n",
        "# Added a 'hidden layer' that simply adds a bias, which is just a constant that\n",
        "#  will be added (essentially the intercept) - this seems to improve the MAE\n",
        "#  quite a bit\n",
        "batch_size = 64\n",
        "\n",
        "model = keras.Sequential([\n",
        "    keras.Input(shape=(None,9),\n",
        "                batch_size=batch_size\n",
        "                ),\n",
        "    layers.Dense(1,use_bias=True),\n",
        "    layers.Dense(1)\n",
        "])\n",
        "# Code below uses a normalization pre-processing layer instead - both appear\n",
        "#  to work well, but wanted to use something other than what is used in the tf\n",
        "#  fuel efficiency tutorial\n",
        "'''\n",
        "normalize = layers.Normalization(axis=-1)\n",
        "normalize.adapt(train_dataset)\n",
        "model = keras.Sequential([\n",
        "    normalize,\n",
        "    #layers.Dense(1,use_bias=True),\n",
        "    layers.Dense(1)\n",
        "])\n",
        "'''"
      ],
      "metadata": {
        "id": "B7wygAdBF3Qz"
      },
      "execution_count": null,
      "outputs": []
    },
    {
      "cell_type": "code",
      "source": [
        "# Compile the model\n",
        "# Using mean_absolute_error, since it is written below that mean absolute error\n",
        "#  is being evaluated\n",
        "# Previously tried to use default rmsprop, but increasing the learning rate\n",
        "#  appears to make the model train much MUCH faster\n",
        "# Set metrics=['mae','mse'] so that it will return the metrics (along with loss\n",
        "#  function value) when model.evaluate is called later\n",
        "model.compile(optimizer=tf.keras.optimizers.RMSprop(learning_rate=0.1), #'rmsprop',\n",
        "              loss='mean_absolute_error',\n",
        "              metrics=['MAE','MSE']\n",
        "              )"
      ],
      "metadata": {
        "id": "7Suim3cZcEYw"
      },
      "execution_count": null,
      "outputs": []
    },
    {
      "cell_type": "code",
      "source": [
        "# Train the model using model.fit()\n",
        "# MAE appeared to still be decreasing after 100 epochs\n",
        "history = model.fit(x=train_dataset,\n",
        "          y=train_labels,\n",
        "          epochs=200,\n",
        "          validation_split=0.2\n",
        "          )"
      ],
      "metadata": {
        "collapsed": true,
        "id": "7mOgHBRCd6z6"
      },
      "execution_count": null,
      "outputs": []
    },
    {
      "cell_type": "code",
      "source": [
        "# Plot how the loss function is changing over time\n",
        "hist = pd.DataFrame(history.history)\n",
        "hist.loss.plot()\n",
        "hist.val_loss.plot()"
      ],
      "metadata": {
        "id": "rqMz3GuQsDyC"
      },
      "execution_count": null,
      "outputs": []
    },
    {
      "cell_type": "code",
      "execution_count": null,
      "metadata": {
        "id": "Xe7RXH3N3CWU"
      },
      "outputs": [],
      "source": [
        "# RUN THIS CELL TO TEST YOUR MODEL. DO NOT MODIFY CONTENTS.\n",
        "# Test model by checking how well the model generalizes using the test set.\n",
        "loss, mae, mse = model.evaluate(test_dataset, test_labels, verbose=2)\n",
        "\n",
        "print(\"Testing set Mean Abs Error: {:5.2f} expenses\".format(mae))\n",
        "\n",
        "if mae < 3500:\n",
        "  print(\"You passed the challenge. Great job!\")\n",
        "else:\n",
        "  print(\"The Mean Abs Error must be less than 3500. Keep trying.\")\n",
        "\n",
        "# Plot predictions.\n",
        "test_predictions = model.predict(test_dataset).flatten()\n",
        "\n",
        "a = plt.axes(aspect='equal')\n",
        "plt.scatter(test_labels, test_predictions)\n",
        "plt.xlabel('True values (expenses)')\n",
        "plt.ylabel('Predictions (expenses)')\n",
        "lims = [0, 50000]\n",
        "plt.xlim(lims)\n",
        "plt.ylim(lims)\n",
        "_ = plt.plot(lims,lims)\n"
      ]
    }
  ],
  "metadata": {
    "colab": {
      "private_outputs": true,
      "provenance": [],
      "toc_visible": true,
      "include_colab_link": true
    },
    "kernelspec": {
      "display_name": "Python 3",
      "name": "python3"
    }
  },
  "nbformat": 4,
  "nbformat_minor": 0
}